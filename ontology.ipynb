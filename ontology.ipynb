{
 "cells": [
  {
   "cell_type": "code",
   "execution_count": 1,
   "metadata": {
    "collapsed": true
   },
   "outputs": [],
   "source": [
    "from nltk import word_tokenize\n",
    "from nltk.corpus import wordnet as wn"
   ]
  },
  {
   "cell_type": "code",
   "execution_count": 2,
   "metadata": {
    "collapsed": true
   },
   "outputs": [],
   "source": [
    "my_word = 'victim'"
   ]
  },
  {
   "cell_type": "code",
   "execution_count": 3,
   "metadata": {},
   "outputs": [
    {
     "name": "stdout",
     "output_type": "stream",
     "text": [
      "Synset('victim.n.01')\n",
      "an unfortunate person who suffers from some adverse circumstance\n",
      "[]\n",
      "['victim']\n",
      "\n",
      "Synset('victim.n.02')\n",
      "a person who is tricked or swindled\n",
      "[]\n",
      "['victim', 'dupe']\n",
      "\n"
     ]
    }
   ],
   "source": [
    "for ss in wn.synsets(my_word):\n",
    "    print(ss)\n",
    "    print(ss.definition())\n",
    "    print(ss.examples())\n",
    "    print(ss.lemma_names())\n",
    "#     print(ss.lemma_names(lang='spa'))\n",
    "    print()"
   ]
  },
  {
   "cell_type": "code",
   "execution_count": 4,
   "metadata": {},
   "outputs": [],
   "source": [
    "my_ss = wn.synset('victim.n.01')"
   ]
  },
  {
   "cell_type": "code",
   "execution_count": 5,
   "metadata": {
    "collapsed": true
   },
   "outputs": [],
   "source": [
    "def all_hypernyms(ss):\n",
    "    return ss.closure(lambda x: x.hypernyms())"
   ]
  },
  {
   "cell_type": "code",
   "execution_count": 6,
   "metadata": {
    "collapsed": true
   },
   "outputs": [],
   "source": [
    "def all_hyponyms(ss):\n",
    "    return ss.closure(lambda x: x.hyponyms())"
   ]
  },
  {
   "cell_type": "code",
   "execution_count": 89,
   "metadata": {
    "collapsed": true
   },
   "outputs": [],
   "source": [
    "def is_a_person(ss):\n",
    "    return \\\n",
    "        ss.lexname() == 'noun.person' or \\\n",
    "        ss == wn.synset('person.n.01') or \\\n",
    "        wn.synset('person.n.01') in list(all_hypernyms(ss))"
   ]
  },
  {
   "cell_type": "code",
   "execution_count": 7,
   "metadata": {
    "scrolled": true
   },
   "outputs": [
    {
     "name": "stdout",
     "output_type": "stream",
     "text": [
      "Synset('casualty.n.01')\n",
      "someone injured or killed or captured or missing in a military engagement\n",
      "[]\n",
      "['casualty']\n",
      "\n",
      "Synset('casualty.n.02')\n",
      "someone injured or killed in an accident\n",
      "[]\n",
      "['casualty', 'injured_party']\n",
      "\n",
      "Synset('hunted_person.n.01')\n",
      "a person who is hunted\n",
      "[]\n",
      "['hunted_person']\n",
      "\n",
      "Synset('martyr.n.01')\n",
      "one who suffers for the sake of principle\n",
      "[]\n",
      "['martyr', 'sufferer']\n",
      "\n",
      "Synset('martyr.n.02')\n",
      "one who voluntarily suffers death as the penalty for refusing to renounce their religion\n",
      "[]\n",
      "['martyr']\n",
      "\n",
      "Synset('muggee.n.01')\n",
      "a victim of a mugging\n",
      "['the law seems to give more protection to the mugger than to the muggee']\n",
      "['muggee']\n",
      "\n",
      "Synset('murderee.n.01')\n",
      "a victim who is murdered\n",
      "[]\n",
      "['murderee']\n",
      "\n",
      "Synset('poor_devil.n.01')\n",
      "someone you feel sorry for\n",
      "[]\n",
      "['poor_devil', 'wretch']\n",
      "\n",
      "Synset('prey.n.01')\n",
      "a person who is the aim of an attack (especially a victim of ridicule or exploitation) by some hostile person or influence\n",
      "['he fell prey to muggers', 'everyone was fair game', 'the target of a manhunt']\n",
      "['prey', 'quarry', 'target', 'fair_game']\n",
      "\n",
      "Synset('punching_bag.n.01')\n",
      "a person on whom another person vents their anger\n",
      "['he resigned because his boss used him as a punching bag']\n",
      "['punching_bag']\n",
      "\n",
      "Synset('scapegoat.n.01')\n",
      "someone who is punished for the errors of others\n",
      "[]\n",
      "['scapegoat', 'whipping_boy']\n",
      "\n",
      "Synset('pursued.n.01')\n",
      "a person who is being chased\n",
      "['the film jumped back and forth from the pursuer to the pursued']\n",
      "['pursued', 'chased']\n",
      "\n",
      "Synset('shaheed.n.01')\n",
      "Arabic term for holy martyrs; applied by Palestinians to suicide bombers\n",
      "[]\n",
      "['shaheed']\n",
      "\n",
      "Synset('polycarp.n.01')\n",
      "Greek bishop of Smyrna who refused to recant his Christian faith and was burned to death by pagans (circa 69-155)\n",
      "[]\n",
      "['Polycarp', 'Saint_Polycarp', 'St._Polycarp']\n",
      "\n"
     ]
    }
   ],
   "source": [
    "for ss in all_hyponyms(my_ss):\n",
    "    print(ss)\n",
    "    print(ss.definition())\n",
    "    print(ss.examples())\n",
    "    print(ss.lemma_names())\n",
    "#     print(ss.lemma_names(lang='spa'))\n",
    "    print()"
   ]
  },
  {
   "cell_type": "code",
   "execution_count": 66,
   "metadata": {
    "scrolled": true
   },
   "outputs": [
    {
     "name": "stdout",
     "output_type": "stream",
     "text": [
      "Synset('unfortunate.n.01')\n",
      "a person who suffers misfortune\n",
      "[]\n",
      "['unfortunate', 'unfortunate_person']\n",
      "\n",
      "Synset('person.n.01')\n",
      "a human being\n",
      "['there was too much for one person to do']\n",
      "['person', 'individual', 'someone', 'somebody', 'mortal', 'soul']\n",
      "\n",
      "Synset('causal_agent.n.01')\n",
      "any entity that produces an effect or is responsible for events or results\n",
      "[]\n",
      "['causal_agent', 'cause', 'causal_agency']\n",
      "\n",
      "Synset('organism.n.01')\n",
      "a living thing that has (or can develop) the ability to act or function independently\n",
      "[]\n",
      "['organism', 'being']\n",
      "\n",
      "Synset('physical_entity.n.01')\n",
      "an entity that has physical existence\n",
      "[]\n",
      "['physical_entity']\n",
      "\n",
      "Synset('living_thing.n.01')\n",
      "a living (or once living) entity\n",
      "[]\n",
      "['living_thing', 'animate_thing']\n",
      "\n",
      "Synset('entity.n.01')\n",
      "that which is perceived or known or inferred to have its own distinct existence (living or nonliving)\n",
      "[]\n",
      "['entity']\n",
      "\n",
      "Synset('whole.n.02')\n",
      "an assemblage of parts that is regarded as a single entity\n",
      "['how big is that part compared to the whole?', 'the team is a unit']\n",
      "['whole', 'unit']\n",
      "\n",
      "Synset('object.n.01')\n",
      "a tangible and visible entity; an entity that can cast a shadow\n",
      "['it was full of rackets, balls and other objects']\n",
      "['object', 'physical_object']\n",
      "\n"
     ]
    }
   ],
   "source": [
    "for ss in all_hypernyms(my_ss):\n",
    "    print(ss)\n",
    "    print(ss.definition())\n",
    "    print(ss.examples())\n",
    "    print(ss.lemma_names())\n",
    "#     print(ss.lemma_names(lang='spa'))\n",
    "    print()"
   ]
  },
  {
   "cell_type": "code",
   "execution_count": 79,
   "metadata": {},
   "outputs": [
    {
     "name": "stdout",
     "output_type": "stream",
     "text": [
      "Synset('person.n.01')\n",
      "Synset('hakham.n.01')\n",
      "Synset('supreme_allied_commander_atlantic.n.01')\n",
      "Synset('supreme_allied_commander_europe.n.01')\n",
      "2\n"
     ]
    }
   ],
   "source": [
    "person_ss = wn.synset('person.n.01')\n",
    "for ss in wn.all_synsets():\n",
    "    if person_ss == ss or person_ss in list(all_hypernyms(ss)):\n",
    "        if ss.lexname() != 'noun.person':\n",
    "            print(ss)\n",
    "#             break\n",
    "    else:\n",
    "        if ss.lexname() == 'noun.person':\n",
    "            print(2)\n",
    "            break\n",
    "        "
   ]
  },
  {
   "cell_type": "code",
   "execution_count": 90,
   "metadata": {},
   "outputs": [
    {
     "data": {
      "text/plain": [
       "True"
      ]
     },
     "execution_count": 90,
     "metadata": {},
     "output_type": "execute_result"
    }
   ],
   "source": [
    "is_a_person(ss)"
   ]
  },
  {
   "cell_type": "code",
   "execution_count": 91,
   "metadata": {},
   "outputs": [
    {
     "data": {
      "text/plain": [
       "True"
      ]
     },
     "execution_count": 91,
     "metadata": {},
     "output_type": "execute_result"
    }
   ],
   "source": [
    "is_a_person(wn.synset('hakham.n.01'))"
   ]
  },
  {
   "cell_type": "code",
   "execution_count": 92,
   "metadata": {},
   "outputs": [
    {
     "data": {
      "text/plain": [
       "True"
      ]
     },
     "execution_count": 92,
     "metadata": {},
     "output_type": "execute_result"
    }
   ],
   "source": [
    "is_a_person(wn.synset('farmer.n.01'))"
   ]
  },
  {
   "cell_type": "code",
   "execution_count": 94,
   "metadata": {},
   "outputs": [
    {
     "data": {
      "text/plain": [
       "'noun.person'"
      ]
     },
     "execution_count": 94,
     "metadata": {},
     "output_type": "execute_result"
    }
   ],
   "source": [
    "wn.synset('victim.n.01').lexname()"
   ]
  },
  {
   "cell_type": "code",
   "execution_count": 93,
   "metadata": {},
   "outputs": [
    {
     "data": {
      "text/plain": [
       "True"
      ]
     },
     "execution_count": 93,
     "metadata": {},
     "output_type": "execute_result"
    }
   ],
   "source": [
    "is_a_person(wn.synset('victim.n.01'))"
   ]
  },
  {
   "cell_type": "code",
   "execution_count": 87,
   "metadata": {},
   "outputs": [
    {
     "data": {
      "text/plain": [
       "Synset('imaginary_being.n.01')"
      ]
     },
     "execution_count": 87,
     "metadata": {},
     "output_type": "execute_result"
    }
   ],
   "source": [
    "ss"
   ]
  },
  {
   "cell_type": "code",
   "execution_count": 88,
   "metadata": {},
   "outputs": [
    {
     "data": {
      "text/plain": [
       "'noun.person'"
      ]
     },
     "execution_count": 88,
     "metadata": {},
     "output_type": "execute_result"
    }
   ],
   "source": [
    "ss.lexname()"
   ]
  },
  {
   "cell_type": "code",
   "execution_count": 86,
   "metadata": {},
   "outputs": [
    {
     "data": {
      "text/plain": [
       "'a creature of the imagination; a person that exists only in legends or myths or fiction'"
      ]
     },
     "execution_count": 86,
     "metadata": {},
     "output_type": "execute_result"
    }
   ],
   "source": [
    "ss.definition()"
   ]
  },
  {
   "cell_type": "code",
   "execution_count": 82,
   "metadata": {},
   "outputs": [
    {
     "data": {
      "text/plain": [
       "[Synset('imagination.n.01'),\n",
       " Synset('creativity.n.01'),\n",
       " Synset('ability.n.02'),\n",
       " Synset('cognition.n.01'),\n",
       " Synset('psychological_feature.n.01'),\n",
       " Synset('abstraction.n.06'),\n",
       " Synset('entity.n.01')]"
      ]
     },
     "execution_count": 82,
     "metadata": {},
     "output_type": "execute_result"
    }
   ],
   "source": [
    "list(all_hypernyms(ss))"
   ]
  },
  {
   "cell_type": "code",
   "execution_count": 83,
   "metadata": {},
   "outputs": [
    {
     "data": {
      "text/plain": [
       "'noun.person'"
      ]
     },
     "execution_count": 83,
     "metadata": {},
     "output_type": "execute_result"
    }
   ],
   "source": [
    "ss.lexname()"
   ]
  },
  {
   "cell_type": "code",
   "execution_count": 68,
   "metadata": {},
   "outputs": [
    {
     "name": "stdout",
     "output_type": "stream",
     "text": [
      "Synset('person.n.01') a human being\n",
      "Synset('person.n.02') a human body (usually including the clothing)\n",
      "Synset('person.n.03') a grammatical category used in the classification of pronouns, possessive determiners, and verb forms according to whether they indicate the speaker, the addressee, or a third party\n"
     ]
    }
   ],
   "source": [
    "for ss in wn.synsets('person'):\n",
    "    print(ss, ss.definition())"
   ]
  },
  {
   "cell_type": "code",
   "execution_count": 107,
   "metadata": {
    "collapsed": true
   },
   "outputs": [],
   "source": [
    "all_words = set()\n",
    "all_words = all_words.union(word_tokenize(my_ss.definition()))\n",
    "all_words = all_words.union(my_ss.lemma_names())\n",
    "for ex in my_ss.examples():\n",
    "    all_words = all_words.union(word_tokenize(ex))\n",
    "for ss in all_hyponyms(my_ss):\n",
    "    all_words = all_words.union(word_tokenize(ss.definition()))\n",
    "    all_words = all_words.union(ss.lemma_names())\n",
    "    for ex in ss.examples():\n",
    "        all_words = all_words.union(word_tokenize(ex))"
   ]
  },
  {
   "cell_type": "code",
   "execution_count": 108,
   "metadata": {},
   "outputs": [
    {
     "data": {
      "text/plain": [
       "133"
      ]
     },
     "execution_count": 108,
     "metadata": {},
     "output_type": "execute_result"
    }
   ],
   "source": [
    "len(all_words)"
   ]
  },
  {
   "cell_type": "code",
   "execution_count": 109,
   "metadata": {},
   "outputs": [
    {
     "data": {
      "text/plain": [
       "{'(',\n",
       " ')',\n",
       " '69-155',\n",
       " ';',\n",
       " 'Arabic',\n",
       " 'Christian',\n",
       " 'Greek',\n",
       " 'Palestinians',\n",
       " 'Polycarp',\n",
       " 'Saint_Polycarp',\n",
       " 'Smyrna',\n",
       " 'St._Polycarp',\n",
       " 'a',\n",
       " 'accident',\n",
       " 'adverse',\n",
       " 'aim',\n",
       " 'an',\n",
       " 'and',\n",
       " 'anger',\n",
       " 'another',\n",
       " 'applied',\n",
       " 'as',\n",
       " 'attack',\n",
       " 'back',\n",
       " 'bag',\n",
       " 'because',\n",
       " 'being',\n",
       " 'bishop',\n",
       " 'bombers',\n",
       " 'boss',\n",
       " 'burned',\n",
       " 'by',\n",
       " 'captured',\n",
       " 'casualty',\n",
       " 'chased',\n",
       " 'circa',\n",
       " 'circumstance',\n",
       " 'death',\n",
       " 'engagement',\n",
       " 'errors',\n",
       " 'especially',\n",
       " 'everyone',\n",
       " 'exploitation',\n",
       " 'fair',\n",
       " 'fair_game',\n",
       " 'faith',\n",
       " 'feel',\n",
       " 'fell',\n",
       " 'film',\n",
       " 'for',\n",
       " 'forth',\n",
       " 'from',\n",
       " 'game',\n",
       " 'give',\n",
       " 'he',\n",
       " 'him',\n",
       " 'his',\n",
       " 'holy',\n",
       " 'hostile',\n",
       " 'hunted',\n",
       " 'hunted_person',\n",
       " 'in',\n",
       " 'influence',\n",
       " 'injured',\n",
       " 'injured_party',\n",
       " 'is',\n",
       " 'jumped',\n",
       " 'killed',\n",
       " 'law',\n",
       " 'manhunt',\n",
       " 'martyr',\n",
       " 'martyrs',\n",
       " 'military',\n",
       " 'missing',\n",
       " 'more',\n",
       " 'muggee',\n",
       " 'mugger',\n",
       " 'muggers',\n",
       " 'mugging',\n",
       " 'murdered',\n",
       " 'murderee',\n",
       " 'of',\n",
       " 'on',\n",
       " 'one',\n",
       " 'or',\n",
       " 'others',\n",
       " 'pagans',\n",
       " 'penalty',\n",
       " 'person',\n",
       " 'poor_devil',\n",
       " 'prey',\n",
       " 'principle',\n",
       " 'protection',\n",
       " 'punching',\n",
       " 'punching_bag',\n",
       " 'punished',\n",
       " 'pursued',\n",
       " 'pursuer',\n",
       " 'quarry',\n",
       " 'recant',\n",
       " 'refused',\n",
       " 'refusing',\n",
       " 'religion',\n",
       " 'renounce',\n",
       " 'resigned',\n",
       " 'ridicule',\n",
       " 'sake',\n",
       " 'scapegoat',\n",
       " 'seems',\n",
       " 'shaheed',\n",
       " 'some',\n",
       " 'someone',\n",
       " 'sorry',\n",
       " 'sufferer',\n",
       " 'suffers',\n",
       " 'suicide',\n",
       " 'target',\n",
       " 'term',\n",
       " 'than',\n",
       " 'the',\n",
       " 'their',\n",
       " 'to',\n",
       " 'unfortunate',\n",
       " 'used',\n",
       " 'vents',\n",
       " 'victim',\n",
       " 'voluntarily',\n",
       " 'was',\n",
       " 'whipping_boy',\n",
       " 'who',\n",
       " 'whom',\n",
       " 'wretch',\n",
       " 'you'}"
      ]
     },
     "execution_count": 109,
     "metadata": {},
     "output_type": "execute_result"
    }
   ],
   "source": [
    "all_words"
   ]
  },
  {
   "cell_type": "code",
   "execution_count": 55,
   "metadata": {},
   "outputs": [],
   "source": [
    "nouns = set()\n",
    "verbs = set()\n",
    "adjectives = set()\n",
    "for w in all_words:\n",
    "    if len(w) > 2:\n",
    "        for ss in wn.synsets(w):\n",
    "            if ss.pos() == 'n':\n",
    "                nouns.add(w)\n",
    "            elif ss.pos() == 'v':\n",
    "                verbs.add(w)\n",
    "            elif ss.pos() == 'a' or ss.pos() == 's':\n",
    "                adjectives.add(w)"
   ]
  },
  {
   "cell_type": "code",
   "execution_count": 56,
   "metadata": {},
   "outputs": [
    {
     "data": {
      "text/plain": [
       "79"
      ]
     },
     "execution_count": 56,
     "metadata": {},
     "output_type": "execute_result"
    }
   ],
   "source": [
    "len(nouns)"
   ]
  },
  {
   "cell_type": "code",
   "execution_count": 58,
   "metadata": {},
   "outputs": [
    {
     "data": {
      "text/plain": [
       "45"
      ]
     },
     "execution_count": 58,
     "metadata": {},
     "output_type": "execute_result"
    }
   ],
   "source": [
    "len(verbs)"
   ]
  },
  {
   "cell_type": "code",
   "execution_count": 61,
   "metadata": {},
   "outputs": [
    {
     "data": {
      "text/plain": [
       "27"
      ]
     },
     "execution_count": 61,
     "metadata": {},
     "output_type": "execute_result"
    }
   ],
   "source": [
    "len(adjectives)"
   ]
  },
  {
   "cell_type": "code",
   "execution_count": 63,
   "metadata": {
    "collapsed": true
   },
   "outputs": [],
   "source": [
    "keywords = nouns.union(verbs).union(adjectives)"
   ]
  },
  {
   "cell_type": "code",
   "execution_count": 64,
   "metadata": {},
   "outputs": [
    {
     "data": {
      "text/plain": [
       "102"
      ]
     },
     "execution_count": 64,
     "metadata": {},
     "output_type": "execute_result"
    }
   ],
   "source": [
    "len(keywords)"
   ]
  },
  {
   "cell_type": "code",
   "execution_count": 65,
   "metadata": {},
   "outputs": [
    {
     "data": {
      "text/plain": [
       "{'Arabic',\n",
       " 'Christian',\n",
       " 'Greek',\n",
       " 'Palestinians',\n",
       " 'Polycarp',\n",
       " 'Saint_Polycarp',\n",
       " 'Smyrna',\n",
       " 'St._Polycarp',\n",
       " 'accident',\n",
       " 'adverse',\n",
       " 'aim',\n",
       " 'anger',\n",
       " 'another',\n",
       " 'applied',\n",
       " 'attack',\n",
       " 'back',\n",
       " 'bag',\n",
       " 'being',\n",
       " 'bishop',\n",
       " 'bombers',\n",
       " 'boss',\n",
       " 'burned',\n",
       " 'captured',\n",
       " 'casualty',\n",
       " 'chased',\n",
       " 'circumstance',\n",
       " 'death',\n",
       " 'engagement',\n",
       " 'errors',\n",
       " 'exploitation',\n",
       " 'fair',\n",
       " 'fair_game',\n",
       " 'faith',\n",
       " 'feel',\n",
       " 'fell',\n",
       " 'film',\n",
       " 'forth',\n",
       " 'game',\n",
       " 'give',\n",
       " 'holy',\n",
       " 'hostile',\n",
       " 'hunted',\n",
       " 'hunted_person',\n",
       " 'influence',\n",
       " 'injured',\n",
       " 'injured_party',\n",
       " 'jumped',\n",
       " 'killed',\n",
       " 'law',\n",
       " 'manhunt',\n",
       " 'martyr',\n",
       " 'martyrs',\n",
       " 'military',\n",
       " 'missing',\n",
       " 'more',\n",
       " 'muggee',\n",
       " 'mugger',\n",
       " 'muggers',\n",
       " 'mugging',\n",
       " 'murdered',\n",
       " 'murderee',\n",
       " 'one',\n",
       " 'pagans',\n",
       " 'penalty',\n",
       " 'person',\n",
       " 'poor_devil',\n",
       " 'prey',\n",
       " 'principle',\n",
       " 'protection',\n",
       " 'punching',\n",
       " 'punching_bag',\n",
       " 'punished',\n",
       " 'pursued',\n",
       " 'pursuer',\n",
       " 'quarry',\n",
       " 'recant',\n",
       " 'refused',\n",
       " 'refusing',\n",
       " 'religion',\n",
       " 'renounce',\n",
       " 'resigned',\n",
       " 'ridicule',\n",
       " 'sake',\n",
       " 'scapegoat',\n",
       " 'seems',\n",
       " 'shaheed',\n",
       " 'some',\n",
       " 'someone',\n",
       " 'sorry',\n",
       " 'sufferer',\n",
       " 'suffers',\n",
       " 'suicide',\n",
       " 'target',\n",
       " 'term',\n",
       " 'unfortunate',\n",
       " 'used',\n",
       " 'vents',\n",
       " 'victim',\n",
       " 'was',\n",
       " 'whipping_boy',\n",
       " 'who',\n",
       " 'wretch'}"
      ]
     },
     "execution_count": 65,
     "metadata": {},
     "output_type": "execute_result"
    }
   ],
   "source": [
    "keywords"
   ]
  },
  {
   "cell_type": "code",
   "execution_count": null,
   "metadata": {
    "collapsed": true
   },
   "outputs": [],
   "source": []
  }
 ],
 "metadata": {
  "kernelspec": {
   "display_name": "Python 3",
   "language": "python",
   "name": "python3"
  },
  "language_info": {
   "codemirror_mode": {
    "name": "ipython",
    "version": 3
   },
   "file_extension": ".py",
   "mimetype": "text/x-python",
   "name": "python",
   "nbconvert_exporter": "python",
   "pygments_lexer": "ipython3",
   "version": "3.5.2"
  }
 },
 "nbformat": 4,
 "nbformat_minor": 2
}
